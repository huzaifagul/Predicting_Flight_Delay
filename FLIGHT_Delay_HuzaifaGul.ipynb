{
 "cells": [
  {
   "cell_type": "code",
   "execution_count": 88,
   "metadata": {},
   "outputs": [
    {
     "name": "stdout",
     "output_type": "stream",
     "text": [
      "Requirement already satisfied: graphviz in /opt/conda/lib/python3.7/site-packages (0.16)\n"
     ]
    }
   ],
   "source": [
    "!pip install graphviz"
   ]
  },
  {
   "cell_type": "code",
   "execution_count": 5,
   "metadata": {},
   "outputs": [
    {
     "name": "stdout",
     "output_type": "stream",
     "text": [
      "Processing /home/jovyan/.cache/pip/wheels/1e/7b/04/7387cf6cc9e48b4a96e361b0be812f0708b394b821bf8c9c50/pydotplus-2.0.2-py3-none-any.whl\n",
      "Requirement already satisfied: pyparsing>=2.0.1 in /opt/conda/lib/python3.7/site-packages (from pydotplus) (2.4.7)\n",
      "Installing collected packages: pydotplus\n",
      "Successfully installed pydotplus-2.0.2\n"
     ]
    }
   ],
   "source": [
    "!pip install pydotplus"
   ]
  },
  {
   "cell_type": "code",
   "execution_count": 1,
   "metadata": {},
   "outputs": [],
   "source": [
    "from matplotlib import pyplot as plt\n",
    "from sklearn import metrics\n",
    "from sklearn import linear_model\n",
    "from sklearn.linear_model import LinearRegression\n",
    "from sklearn.linear_model import LogisticRegression\n",
    "from sklearn.metrics import classification_report\n",
    "from sklearn.metrics import confusion_matrix\n",
    "from sklearn.model_selection import train_test_split\n",
    "from sklearn.preprocessing import  LabelEncoder, OneHotEncoder, StandardScaler\n",
    "import matplotlib.pyplot as plot\n",
    "import numpy\n",
    "import numpy as np\n",
    "import pandas\n",
    "import pandas as pnd\n",
    "import pandas as pd\n",
    "import calendar\n",
    "import seaborn as sns\n",
    "from sklearn.metrics import confusion_matrix\n",
    "from sklearn.linear_model import LinearRegression\n",
    "from sklearn import tree\n",
    "import pydotplus\n",
    "from sklearn.tree import DecisionTreeClassifier\n",
    "import matplotlib.image as pltimg\n",
    "import graphviz\n",
    "from sklearn.tree import export_graphviz\n",
    "%matplotlib inline"
   ]
  },
  {
   "cell_type": "code",
   "execution_count": 2,
   "metadata": {},
   "outputs": [],
   "source": [
    "df = pd.read_csv(\"flightdata.csv\")"
   ]
  },
  {
   "cell_type": "code",
   "execution_count": 3,
   "metadata": {},
   "outputs": [
    {
     "data": {
      "text/html": [
       "<div>\n",
       "<style scoped>\n",
       "    .dataframe tbody tr th:only-of-type {\n",
       "        vertical-align: middle;\n",
       "    }\n",
       "\n",
       "    .dataframe tbody tr th {\n",
       "        vertical-align: top;\n",
       "    }\n",
       "\n",
       "    .dataframe thead th {\n",
       "        text-align: right;\n",
       "    }\n",
       "</style>\n",
       "<table border=\"1\" class=\"dataframe\">\n",
       "  <thead>\n",
       "    <tr style=\"text-align: right;\">\n",
       "      <th></th>\n",
       "      <th>Unnamed: 0</th>\n",
       "      <th>YEAR</th>\n",
       "      <th>MONTH</th>\n",
       "      <th>OP_UNIQUE_CARRIER</th>\n",
       "      <th>ORIGIN_AIRPORT_ID</th>\n",
       "      <th>ORIGIN</th>\n",
       "      <th>ORIGIN_CITY_NAME</th>\n",
       "      <th>ORIGIN_STATE_ABR</th>\n",
       "      <th>DEST_AIRPORT_ID</th>\n",
       "      <th>DEST</th>\n",
       "      <th>...</th>\n",
       "      <th>ARR_TIME</th>\n",
       "      <th>ARR_DELAY</th>\n",
       "      <th>CANCELLED</th>\n",
       "      <th>DIVERTED</th>\n",
       "      <th>CARRIER_DELAY</th>\n",
       "      <th>WEATHER_DELAY</th>\n",
       "      <th>NAS_DELAY</th>\n",
       "      <th>SECURITY_DELAY</th>\n",
       "      <th>LATE_AIRCRAFT_DELAY</th>\n",
       "      <th>Unnamed: 22</th>\n",
       "    </tr>\n",
       "  </thead>\n",
       "  <tbody>\n",
       "    <tr>\n",
       "      <th>0</th>\n",
       "      <td>0</td>\n",
       "      <td>2020</td>\n",
       "      <td>1</td>\n",
       "      <td>WN</td>\n",
       "      <td>13891</td>\n",
       "      <td>ONT</td>\n",
       "      <td>Ontario, CA</td>\n",
       "      <td>CA</td>\n",
       "      <td>14771</td>\n",
       "      <td>SFO</td>\n",
       "      <td>...</td>\n",
       "      <td>2053.0</td>\n",
       "      <td>68.0</td>\n",
       "      <td>0.0</td>\n",
       "      <td>0.0</td>\n",
       "      <td>8.0</td>\n",
       "      <td>0.0</td>\n",
       "      <td>27.0</td>\n",
       "      <td>0.0</td>\n",
       "      <td>33.0</td>\n",
       "      <td>NaN</td>\n",
       "    </tr>\n",
       "    <tr>\n",
       "      <th>1</th>\n",
       "      <td>1</td>\n",
       "      <td>2020</td>\n",
       "      <td>1</td>\n",
       "      <td>WN</td>\n",
       "      <td>13891</td>\n",
       "      <td>ONT</td>\n",
       "      <td>Ontario, CA</td>\n",
       "      <td>CA</td>\n",
       "      <td>14771</td>\n",
       "      <td>SFO</td>\n",
       "      <td>...</td>\n",
       "      <td>1318.0</td>\n",
       "      <td>-2.0</td>\n",
       "      <td>0.0</td>\n",
       "      <td>0.0</td>\n",
       "      <td>NaN</td>\n",
       "      <td>NaN</td>\n",
       "      <td>NaN</td>\n",
       "      <td>NaN</td>\n",
       "      <td>NaN</td>\n",
       "      <td>NaN</td>\n",
       "    </tr>\n",
       "    <tr>\n",
       "      <th>2</th>\n",
       "      <td>2</td>\n",
       "      <td>2020</td>\n",
       "      <td>1</td>\n",
       "      <td>WN</td>\n",
       "      <td>13891</td>\n",
       "      <td>ONT</td>\n",
       "      <td>Ontario, CA</td>\n",
       "      <td>CA</td>\n",
       "      <td>14831</td>\n",
       "      <td>SJC</td>\n",
       "      <td>...</td>\n",
       "      <td>2124.0</td>\n",
       "      <td>-6.0</td>\n",
       "      <td>0.0</td>\n",
       "      <td>0.0</td>\n",
       "      <td>NaN</td>\n",
       "      <td>NaN</td>\n",
       "      <td>NaN</td>\n",
       "      <td>NaN</td>\n",
       "      <td>NaN</td>\n",
       "      <td>NaN</td>\n",
       "    </tr>\n",
       "    <tr>\n",
       "      <th>3</th>\n",
       "      <td>3</td>\n",
       "      <td>2020</td>\n",
       "      <td>1</td>\n",
       "      <td>WN</td>\n",
       "      <td>13891</td>\n",
       "      <td>ONT</td>\n",
       "      <td>Ontario, CA</td>\n",
       "      <td>CA</td>\n",
       "      <td>14831</td>\n",
       "      <td>SJC</td>\n",
       "      <td>...</td>\n",
       "      <td>1505.0</td>\n",
       "      <td>10.0</td>\n",
       "      <td>0.0</td>\n",
       "      <td>0.0</td>\n",
       "      <td>NaN</td>\n",
       "      <td>NaN</td>\n",
       "      <td>NaN</td>\n",
       "      <td>NaN</td>\n",
       "      <td>NaN</td>\n",
       "      <td>NaN</td>\n",
       "    </tr>\n",
       "    <tr>\n",
       "      <th>4</th>\n",
       "      <td>4</td>\n",
       "      <td>2020</td>\n",
       "      <td>1</td>\n",
       "      <td>WN</td>\n",
       "      <td>13891</td>\n",
       "      <td>ONT</td>\n",
       "      <td>Ontario, CA</td>\n",
       "      <td>CA</td>\n",
       "      <td>14831</td>\n",
       "      <td>SJC</td>\n",
       "      <td>...</td>\n",
       "      <td>1023.0</td>\n",
       "      <td>-12.0</td>\n",
       "      <td>0.0</td>\n",
       "      <td>0.0</td>\n",
       "      <td>NaN</td>\n",
       "      <td>NaN</td>\n",
       "      <td>NaN</td>\n",
       "      <td>NaN</td>\n",
       "      <td>NaN</td>\n",
       "      <td>NaN</td>\n",
       "    </tr>\n",
       "    <tr>\n",
       "      <th>5</th>\n",
       "      <td>5</td>\n",
       "      <td>2020</td>\n",
       "      <td>1</td>\n",
       "      <td>WN</td>\n",
       "      <td>13891</td>\n",
       "      <td>ONT</td>\n",
       "      <td>Ontario, CA</td>\n",
       "      <td>CA</td>\n",
       "      <td>14831</td>\n",
       "      <td>SJC</td>\n",
       "      <td>...</td>\n",
       "      <td>722.0</td>\n",
       "      <td>7.0</td>\n",
       "      <td>0.0</td>\n",
       "      <td>0.0</td>\n",
       "      <td>NaN</td>\n",
       "      <td>NaN</td>\n",
       "      <td>NaN</td>\n",
       "      <td>NaN</td>\n",
       "      <td>NaN</td>\n",
       "      <td>NaN</td>\n",
       "    </tr>\n",
       "    <tr>\n",
       "      <th>6</th>\n",
       "      <td>6</td>\n",
       "      <td>2020</td>\n",
       "      <td>1</td>\n",
       "      <td>WN</td>\n",
       "      <td>13891</td>\n",
       "      <td>ONT</td>\n",
       "      <td>Ontario, CA</td>\n",
       "      <td>CA</td>\n",
       "      <td>14831</td>\n",
       "      <td>SJC</td>\n",
       "      <td>...</td>\n",
       "      <td>1736.0</td>\n",
       "      <td>-4.0</td>\n",
       "      <td>0.0</td>\n",
       "      <td>0.0</td>\n",
       "      <td>NaN</td>\n",
       "      <td>NaN</td>\n",
       "      <td>NaN</td>\n",
       "      <td>NaN</td>\n",
       "      <td>NaN</td>\n",
       "      <td>NaN</td>\n",
       "    </tr>\n",
       "    <tr>\n",
       "      <th>7</th>\n",
       "      <td>7</td>\n",
       "      <td>2020</td>\n",
       "      <td>1</td>\n",
       "      <td>WN</td>\n",
       "      <td>13891</td>\n",
       "      <td>ONT</td>\n",
       "      <td>Ontario, CA</td>\n",
       "      <td>CA</td>\n",
       "      <td>14893</td>\n",
       "      <td>SMF</td>\n",
       "      <td>...</td>\n",
       "      <td>1717.0</td>\n",
       "      <td>47.0</td>\n",
       "      <td>0.0</td>\n",
       "      <td>0.0</td>\n",
       "      <td>0.0</td>\n",
       "      <td>0.0</td>\n",
       "      <td>0.0</td>\n",
       "      <td>7.0</td>\n",
       "      <td>40.0</td>\n",
       "      <td>NaN</td>\n",
       "    </tr>\n",
       "    <tr>\n",
       "      <th>8</th>\n",
       "      <td>8</td>\n",
       "      <td>2020</td>\n",
       "      <td>1</td>\n",
       "      <td>WN</td>\n",
       "      <td>13891</td>\n",
       "      <td>ONT</td>\n",
       "      <td>Ontario, CA</td>\n",
       "      <td>CA</td>\n",
       "      <td>14893</td>\n",
       "      <td>SMF</td>\n",
       "      <td>...</td>\n",
       "      <td>1405.0</td>\n",
       "      <td>10.0</td>\n",
       "      <td>0.0</td>\n",
       "      <td>0.0</td>\n",
       "      <td>NaN</td>\n",
       "      <td>NaN</td>\n",
       "      <td>NaN</td>\n",
       "      <td>NaN</td>\n",
       "      <td>NaN</td>\n",
       "      <td>NaN</td>\n",
       "    </tr>\n",
       "    <tr>\n",
       "      <th>9</th>\n",
       "      <td>9</td>\n",
       "      <td>2020</td>\n",
       "      <td>1</td>\n",
       "      <td>WN</td>\n",
       "      <td>13891</td>\n",
       "      <td>ONT</td>\n",
       "      <td>Ontario, CA</td>\n",
       "      <td>CA</td>\n",
       "      <td>14893</td>\n",
       "      <td>SMF</td>\n",
       "      <td>...</td>\n",
       "      <td>904.0</td>\n",
       "      <td>4.0</td>\n",
       "      <td>0.0</td>\n",
       "      <td>0.0</td>\n",
       "      <td>NaN</td>\n",
       "      <td>NaN</td>\n",
       "      <td>NaN</td>\n",
       "      <td>NaN</td>\n",
       "      <td>NaN</td>\n",
       "      <td>NaN</td>\n",
       "    </tr>\n",
       "  </tbody>\n",
       "</table>\n",
       "<p>10 rows × 24 columns</p>\n",
       "</div>"
      ],
      "text/plain": [
       "   Unnamed: 0  YEAR  MONTH OP_UNIQUE_CARRIER  ORIGIN_AIRPORT_ID ORIGIN  \\\n",
       "0           0  2020      1                WN              13891    ONT   \n",
       "1           1  2020      1                WN              13891    ONT   \n",
       "2           2  2020      1                WN              13891    ONT   \n",
       "3           3  2020      1                WN              13891    ONT   \n",
       "4           4  2020      1                WN              13891    ONT   \n",
       "5           5  2020      1                WN              13891    ONT   \n",
       "6           6  2020      1                WN              13891    ONT   \n",
       "7           7  2020      1                WN              13891    ONT   \n",
       "8           8  2020      1                WN              13891    ONT   \n",
       "9           9  2020      1                WN              13891    ONT   \n",
       "\n",
       "  ORIGIN_CITY_NAME ORIGIN_STATE_ABR  DEST_AIRPORT_ID DEST  ... ARR_TIME  \\\n",
       "0      Ontario, CA               CA            14771  SFO  ...   2053.0   \n",
       "1      Ontario, CA               CA            14771  SFO  ...   1318.0   \n",
       "2      Ontario, CA               CA            14831  SJC  ...   2124.0   \n",
       "3      Ontario, CA               CA            14831  SJC  ...   1505.0   \n",
       "4      Ontario, CA               CA            14831  SJC  ...   1023.0   \n",
       "5      Ontario, CA               CA            14831  SJC  ...    722.0   \n",
       "6      Ontario, CA               CA            14831  SJC  ...   1736.0   \n",
       "7      Ontario, CA               CA            14893  SMF  ...   1717.0   \n",
       "8      Ontario, CA               CA            14893  SMF  ...   1405.0   \n",
       "9      Ontario, CA               CA            14893  SMF  ...    904.0   \n",
       "\n",
       "  ARR_DELAY  CANCELLED  DIVERTED  CARRIER_DELAY  WEATHER_DELAY  NAS_DELAY  \\\n",
       "0      68.0        0.0       0.0            8.0            0.0       27.0   \n",
       "1      -2.0        0.0       0.0            NaN            NaN        NaN   \n",
       "2      -6.0        0.0       0.0            NaN            NaN        NaN   \n",
       "3      10.0        0.0       0.0            NaN            NaN        NaN   \n",
       "4     -12.0        0.0       0.0            NaN            NaN        NaN   \n",
       "5       7.0        0.0       0.0            NaN            NaN        NaN   \n",
       "6      -4.0        0.0       0.0            NaN            NaN        NaN   \n",
       "7      47.0        0.0       0.0            0.0            0.0        0.0   \n",
       "8      10.0        0.0       0.0            NaN            NaN        NaN   \n",
       "9       4.0        0.0       0.0            NaN            NaN        NaN   \n",
       "\n",
       "   SECURITY_DELAY  LATE_AIRCRAFT_DELAY  Unnamed: 22  \n",
       "0             0.0                 33.0          NaN  \n",
       "1             NaN                  NaN          NaN  \n",
       "2             NaN                  NaN          NaN  \n",
       "3             NaN                  NaN          NaN  \n",
       "4             NaN                  NaN          NaN  \n",
       "5             NaN                  NaN          NaN  \n",
       "6             NaN                  NaN          NaN  \n",
       "7             7.0                 40.0          NaN  \n",
       "8             NaN                  NaN          NaN  \n",
       "9             NaN                  NaN          NaN  \n",
       "\n",
       "[10 rows x 24 columns]"
      ]
     },
     "execution_count": 3,
     "metadata": {},
     "output_type": "execute_result"
    }
   ],
   "source": [
    "df.head(10)"
   ]
  },
  {
   "cell_type": "code",
   "execution_count": 16,
   "metadata": {},
   "outputs": [
    {
     "name": "stdout",
     "output_type": "stream",
     "text": [
      "<class 'pandas.core.frame.DataFrame'>\n",
      "RangeIndex: 5826726 entries, 0 to 5826725\n",
      "Data columns (total 24 columns):\n",
      " #   Column               Dtype  \n",
      "---  ------               -----  \n",
      " 0   Unnamed: 0           int64  \n",
      " 1   YEAR                 int64  \n",
      " 2   MONTH                int64  \n",
      " 3   OP_UNIQUE_CARRIER    object \n",
      " 4   ORIGIN_AIRPORT_ID    int64  \n",
      " 5   ORIGIN               object \n",
      " 6   ORIGIN_CITY_NAME     object \n",
      " 7   ORIGIN_STATE_ABR     object \n",
      " 8   DEST_AIRPORT_ID      int64  \n",
      " 9   DEST                 object \n",
      " 10  DEST_CITY_NAME       object \n",
      " 11  DEST_STATE_ABR       object \n",
      " 12  DEP_DELAY            float64\n",
      " 13  DEP_DELAY_NEW        float64\n",
      " 14  ARR_TIME             float64\n",
      " 15  ARR_DELAY            float64\n",
      " 16  CANCELLED            float64\n",
      " 17  DIVERTED             float64\n",
      " 18  CARRIER_DELAY        float64\n",
      " 19  WEATHER_DELAY        float64\n",
      " 20  NAS_DELAY            float64\n",
      " 21  SECURITY_DELAY       float64\n",
      " 22  LATE_AIRCRAFT_DELAY  float64\n",
      " 23  Unnamed: 22          float64\n",
      "dtypes: float64(12), int64(5), object(7)\n",
      "memory usage: 1.0+ GB\n"
     ]
    }
   ],
   "source": [
    "df.info()"
   ]
  },
  {
   "cell_type": "code",
   "execution_count": 4,
   "metadata": {},
   "outputs": [
    {
     "data": {
      "text/plain": [
       "(557116, 23)"
      ]
     },
     "execution_count": 4,
     "metadata": {},
     "output_type": "execute_result"
    }
   ],
   "source": [
    "df=df.drop('Unnamed: 22', axis=1)\n",
    "df.dropna(inplace=True)\n",
    "df.shape"
   ]
  },
  {
   "cell_type": "code",
   "execution_count": 8,
   "metadata": {},
   "outputs": [
    {
     "data": {
      "text/plain": [
       "Index(['Unnamed: 0', 'YEAR', 'MONTH', 'OP_UNIQUE_CARRIER', 'ORIGIN_AIRPORT_ID',\n",
       "       'ORIGIN', 'ORIGIN_CITY_NAME', 'ORIGIN_STATE_ABR', 'DEST_AIRPORT_ID',\n",
       "       'DEST', 'DEST_CITY_NAME', 'DEST_STATE_ABR', 'DEP_DELAY',\n",
       "       'DEP_DELAY_NEW', 'ARR_TIME', 'ARR_DELAY', 'CANCELLED', 'DIVERTED',\n",
       "       'CARRIER_DELAY', 'WEATHER_DELAY', 'NAS_DELAY', 'SECURITY_DELAY',\n",
       "       'LATE_AIRCRAFT_DELAY'],\n",
       "      dtype='object')"
      ]
     },
     "execution_count": 8,
     "metadata": {},
     "output_type": "execute_result"
    }
   ],
   "source": [
    "df.columns"
   ]
  },
  {
   "cell_type": "code",
   "execution_count": 6,
   "metadata": {},
   "outputs": [
    {
     "data": {
      "text/html": [
       "<div>\n",
       "<style scoped>\n",
       "    .dataframe tbody tr th:only-of-type {\n",
       "        vertical-align: middle;\n",
       "    }\n",
       "\n",
       "    .dataframe tbody tr th {\n",
       "        vertical-align: top;\n",
       "    }\n",
       "\n",
       "    .dataframe thead th {\n",
       "        text-align: right;\n",
       "    }\n",
       "</style>\n",
       "<table border=\"1\" class=\"dataframe\">\n",
       "  <thead>\n",
       "    <tr style=\"text-align: right;\">\n",
       "      <th></th>\n",
       "      <th>Unnamed: 0</th>\n",
       "      <th>YEAR</th>\n",
       "      <th>MONTH</th>\n",
       "      <th>OP_UNIQUE_CARRIER</th>\n",
       "      <th>ORIGIN_AIRPORT_ID</th>\n",
       "      <th>ORIGIN</th>\n",
       "      <th>ORIGIN_CITY_NAME</th>\n",
       "      <th>ORIGIN_STATE_ABR</th>\n",
       "      <th>DEST_AIRPORT_ID</th>\n",
       "      <th>DEST</th>\n",
       "      <th>...</th>\n",
       "      <th>ARR_TIME</th>\n",
       "      <th>ARR_DELAY</th>\n",
       "      <th>CANCELLED</th>\n",
       "      <th>DIVERTED</th>\n",
       "      <th>CARRIER_DELAY</th>\n",
       "      <th>WEATHER_DELAY</th>\n",
       "      <th>NAS_DELAY</th>\n",
       "      <th>SECURITY_DELAY</th>\n",
       "      <th>LATE_AIRCRAFT_DELAY</th>\n",
       "      <th>IS_DELAY</th>\n",
       "    </tr>\n",
       "  </thead>\n",
       "  <tbody>\n",
       "    <tr>\n",
       "      <th>0</th>\n",
       "      <td>0</td>\n",
       "      <td>2020</td>\n",
       "      <td>1</td>\n",
       "      <td>WN</td>\n",
       "      <td>13891</td>\n",
       "      <td>ONT</td>\n",
       "      <td>Ontario, CA</td>\n",
       "      <td>CA</td>\n",
       "      <td>14771</td>\n",
       "      <td>SFO</td>\n",
       "      <td>...</td>\n",
       "      <td>2053.0</td>\n",
       "      <td>68.0</td>\n",
       "      <td>0.0</td>\n",
       "      <td>0.0</td>\n",
       "      <td>8.0</td>\n",
       "      <td>0.0</td>\n",
       "      <td>27.0</td>\n",
       "      <td>0.0</td>\n",
       "      <td>33.0</td>\n",
       "      <td>yes</td>\n",
       "    </tr>\n",
       "    <tr>\n",
       "      <th>7</th>\n",
       "      <td>7</td>\n",
       "      <td>2020</td>\n",
       "      <td>1</td>\n",
       "      <td>WN</td>\n",
       "      <td>13891</td>\n",
       "      <td>ONT</td>\n",
       "      <td>Ontario, CA</td>\n",
       "      <td>CA</td>\n",
       "      <td>14893</td>\n",
       "      <td>SMF</td>\n",
       "      <td>...</td>\n",
       "      <td>1717.0</td>\n",
       "      <td>47.0</td>\n",
       "      <td>0.0</td>\n",
       "      <td>0.0</td>\n",
       "      <td>0.0</td>\n",
       "      <td>0.0</td>\n",
       "      <td>0.0</td>\n",
       "      <td>7.0</td>\n",
       "      <td>40.0</td>\n",
       "      <td>yes</td>\n",
       "    </tr>\n",
       "    <tr>\n",
       "      <th>14</th>\n",
       "      <td>14</td>\n",
       "      <td>2020</td>\n",
       "      <td>1</td>\n",
       "      <td>WN</td>\n",
       "      <td>13931</td>\n",
       "      <td>ORF</td>\n",
       "      <td>Norfolk, VA</td>\n",
       "      <td>VA</td>\n",
       "      <td>10821</td>\n",
       "      <td>BWI</td>\n",
       "      <td>...</td>\n",
       "      <td>1317.0</td>\n",
       "      <td>42.0</td>\n",
       "      <td>0.0</td>\n",
       "      <td>0.0</td>\n",
       "      <td>6.0</td>\n",
       "      <td>0.0</td>\n",
       "      <td>0.0</td>\n",
       "      <td>0.0</td>\n",
       "      <td>36.0</td>\n",
       "      <td>yes</td>\n",
       "    </tr>\n",
       "    <tr>\n",
       "      <th>24</th>\n",
       "      <td>24</td>\n",
       "      <td>2020</td>\n",
       "      <td>1</td>\n",
       "      <td>WN</td>\n",
       "      <td>14027</td>\n",
       "      <td>PBI</td>\n",
       "      <td>West Palm Beach/Palm Beach, FL</td>\n",
       "      <td>FL</td>\n",
       "      <td>12391</td>\n",
       "      <td>ISP</td>\n",
       "      <td>...</td>\n",
       "      <td>1329.0</td>\n",
       "      <td>179.0</td>\n",
       "      <td>0.0</td>\n",
       "      <td>0.0</td>\n",
       "      <td>179.0</td>\n",
       "      <td>0.0</td>\n",
       "      <td>0.0</td>\n",
       "      <td>0.0</td>\n",
       "      <td>0.0</td>\n",
       "      <td>yes</td>\n",
       "    </tr>\n",
       "    <tr>\n",
       "      <th>29</th>\n",
       "      <td>29</td>\n",
       "      <td>2020</td>\n",
       "      <td>1</td>\n",
       "      <td>WN</td>\n",
       "      <td>14057</td>\n",
       "      <td>PDX</td>\n",
       "      <td>Portland, OR</td>\n",
       "      <td>OR</td>\n",
       "      <td>11292</td>\n",
       "      <td>DEN</td>\n",
       "      <td>...</td>\n",
       "      <td>1658.0</td>\n",
       "      <td>28.0</td>\n",
       "      <td>0.0</td>\n",
       "      <td>0.0</td>\n",
       "      <td>28.0</td>\n",
       "      <td>0.0</td>\n",
       "      <td>0.0</td>\n",
       "      <td>0.0</td>\n",
       "      <td>0.0</td>\n",
       "      <td>yes</td>\n",
       "    </tr>\n",
       "    <tr>\n",
       "      <th>57</th>\n",
       "      <td>57</td>\n",
       "      <td>2020</td>\n",
       "      <td>1</td>\n",
       "      <td>WN</td>\n",
       "      <td>14057</td>\n",
       "      <td>PDX</td>\n",
       "      <td>Portland, OR</td>\n",
       "      <td>OR</td>\n",
       "      <td>14893</td>\n",
       "      <td>SMF</td>\n",
       "      <td>...</td>\n",
       "      <td>1458.0</td>\n",
       "      <td>18.0</td>\n",
       "      <td>0.0</td>\n",
       "      <td>0.0</td>\n",
       "      <td>17.0</td>\n",
       "      <td>0.0</td>\n",
       "      <td>1.0</td>\n",
       "      <td>0.0</td>\n",
       "      <td>0.0</td>\n",
       "      <td>yes</td>\n",
       "    </tr>\n",
       "    <tr>\n",
       "      <th>62</th>\n",
       "      <td>62</td>\n",
       "      <td>2020</td>\n",
       "      <td>1</td>\n",
       "      <td>WN</td>\n",
       "      <td>14100</td>\n",
       "      <td>PHL</td>\n",
       "      <td>Philadelphia, PA</td>\n",
       "      <td>PA</td>\n",
       "      <td>10693</td>\n",
       "      <td>BNA</td>\n",
       "      <td>...</td>\n",
       "      <td>1423.0</td>\n",
       "      <td>38.0</td>\n",
       "      <td>0.0</td>\n",
       "      <td>0.0</td>\n",
       "      <td>3.0</td>\n",
       "      <td>0.0</td>\n",
       "      <td>0.0</td>\n",
       "      <td>0.0</td>\n",
       "      <td>35.0</td>\n",
       "      <td>yes</td>\n",
       "    </tr>\n",
       "    <tr>\n",
       "      <th>87</th>\n",
       "      <td>87</td>\n",
       "      <td>2020</td>\n",
       "      <td>1</td>\n",
       "      <td>WN</td>\n",
       "      <td>14107</td>\n",
       "      <td>PHX</td>\n",
       "      <td>Phoenix, AZ</td>\n",
       "      <td>AZ</td>\n",
       "      <td>10140</td>\n",
       "      <td>ABQ</td>\n",
       "      <td>...</td>\n",
       "      <td>1116.0</td>\n",
       "      <td>16.0</td>\n",
       "      <td>0.0</td>\n",
       "      <td>0.0</td>\n",
       "      <td>3.0</td>\n",
       "      <td>0.0</td>\n",
       "      <td>0.0</td>\n",
       "      <td>0.0</td>\n",
       "      <td>13.0</td>\n",
       "      <td>yes</td>\n",
       "    </tr>\n",
       "    <tr>\n",
       "      <th>118</th>\n",
       "      <td>118</td>\n",
       "      <td>2020</td>\n",
       "      <td>1</td>\n",
       "      <td>WN</td>\n",
       "      <td>14107</td>\n",
       "      <td>PHX</td>\n",
       "      <td>Phoenix, AZ</td>\n",
       "      <td>AZ</td>\n",
       "      <td>11292</td>\n",
       "      <td>DEN</td>\n",
       "      <td>...</td>\n",
       "      <td>119.0</td>\n",
       "      <td>49.0</td>\n",
       "      <td>0.0</td>\n",
       "      <td>0.0</td>\n",
       "      <td>25.0</td>\n",
       "      <td>0.0</td>\n",
       "      <td>0.0</td>\n",
       "      <td>0.0</td>\n",
       "      <td>24.0</td>\n",
       "      <td>yes</td>\n",
       "    </tr>\n",
       "    <tr>\n",
       "      <th>132</th>\n",
       "      <td>132</td>\n",
       "      <td>2020</td>\n",
       "      <td>1</td>\n",
       "      <td>WN</td>\n",
       "      <td>14107</td>\n",
       "      <td>PHX</td>\n",
       "      <td>Phoenix, AZ</td>\n",
       "      <td>AZ</td>\n",
       "      <td>11884</td>\n",
       "      <td>GEG</td>\n",
       "      <td>...</td>\n",
       "      <td>1516.0</td>\n",
       "      <td>16.0</td>\n",
       "      <td>0.0</td>\n",
       "      <td>0.0</td>\n",
       "      <td>11.0</td>\n",
       "      <td>0.0</td>\n",
       "      <td>0.0</td>\n",
       "      <td>0.0</td>\n",
       "      <td>5.0</td>\n",
       "      <td>yes</td>\n",
       "    </tr>\n",
       "  </tbody>\n",
       "</table>\n",
       "<p>10 rows × 24 columns</p>\n",
       "</div>"
      ],
      "text/plain": [
       "     Unnamed: 0  YEAR  MONTH OP_UNIQUE_CARRIER  ORIGIN_AIRPORT_ID ORIGIN  \\\n",
       "0             0  2020      1                WN              13891    ONT   \n",
       "7             7  2020      1                WN              13891    ONT   \n",
       "14           14  2020      1                WN              13931    ORF   \n",
       "24           24  2020      1                WN              14027    PBI   \n",
       "29           29  2020      1                WN              14057    PDX   \n",
       "57           57  2020      1                WN              14057    PDX   \n",
       "62           62  2020      1                WN              14100    PHL   \n",
       "87           87  2020      1                WN              14107    PHX   \n",
       "118         118  2020      1                WN              14107    PHX   \n",
       "132         132  2020      1                WN              14107    PHX   \n",
       "\n",
       "                   ORIGIN_CITY_NAME ORIGIN_STATE_ABR  DEST_AIRPORT_ID DEST  \\\n",
       "0                       Ontario, CA               CA            14771  SFO   \n",
       "7                       Ontario, CA               CA            14893  SMF   \n",
       "14                      Norfolk, VA               VA            10821  BWI   \n",
       "24   West Palm Beach/Palm Beach, FL               FL            12391  ISP   \n",
       "29                     Portland, OR               OR            11292  DEN   \n",
       "57                     Portland, OR               OR            14893  SMF   \n",
       "62                 Philadelphia, PA               PA            10693  BNA   \n",
       "87                      Phoenix, AZ               AZ            10140  ABQ   \n",
       "118                     Phoenix, AZ               AZ            11292  DEN   \n",
       "132                     Phoenix, AZ               AZ            11884  GEG   \n",
       "\n",
       "     ... ARR_TIME ARR_DELAY  CANCELLED  DIVERTED  CARRIER_DELAY  \\\n",
       "0    ...   2053.0      68.0        0.0       0.0            8.0   \n",
       "7    ...   1717.0      47.0        0.0       0.0            0.0   \n",
       "14   ...   1317.0      42.0        0.0       0.0            6.0   \n",
       "24   ...   1329.0     179.0        0.0       0.0          179.0   \n",
       "29   ...   1658.0      28.0        0.0       0.0           28.0   \n",
       "57   ...   1458.0      18.0        0.0       0.0           17.0   \n",
       "62   ...   1423.0      38.0        0.0       0.0            3.0   \n",
       "87   ...   1116.0      16.0        0.0       0.0            3.0   \n",
       "118  ...    119.0      49.0        0.0       0.0           25.0   \n",
       "132  ...   1516.0      16.0        0.0       0.0           11.0   \n",
       "\n",
       "     WEATHER_DELAY  NAS_DELAY  SECURITY_DELAY  LATE_AIRCRAFT_DELAY  IS_DELAY  \n",
       "0              0.0       27.0             0.0                 33.0       yes  \n",
       "7              0.0        0.0             7.0                 40.0       yes  \n",
       "14             0.0        0.0             0.0                 36.0       yes  \n",
       "24             0.0        0.0             0.0                  0.0       yes  \n",
       "29             0.0        0.0             0.0                  0.0       yes  \n",
       "57             0.0        1.0             0.0                  0.0       yes  \n",
       "62             0.0        0.0             0.0                 35.0       yes  \n",
       "87             0.0        0.0             0.0                 13.0       yes  \n",
       "118            0.0        0.0             0.0                 24.0       yes  \n",
       "132            0.0        0.0             0.0                  5.0       yes  \n",
       "\n",
       "[10 rows x 24 columns]"
      ]
     },
     "execution_count": 6,
     "metadata": {},
     "output_type": "execute_result"
    }
   ],
   "source": [
    "a = []\n",
    "for f in df['DEP_DELAY']:\n",
    "    if f > 0:\n",
    "        a.append('yes')\n",
    "    else:\n",
    "        a.append('no')\n",
    "df['IS_DELAY']=a\n",
    "df.head(10)"
   ]
  },
  {
   "cell_type": "code",
   "execution_count": 13,
   "metadata": {},
   "outputs": [
    {
     "name": "stdout",
     "output_type": "stream",
     "text": [
      "yes    448168\n",
      "no     108948\n",
      "Name: IS_DELAY, dtype: int64\n"
     ]
    }
   ],
   "source": [
    "print(df.IS_DELAY.value_counts())"
   ]
  },
  {
   "cell_type": "code",
   "execution_count": 14,
   "metadata": {},
   "outputs": [
    {
     "data": {
      "text/html": [
       "<div>\n",
       "<style scoped>\n",
       "    .dataframe tbody tr th:only-of-type {\n",
       "        vertical-align: middle;\n",
       "    }\n",
       "\n",
       "    .dataframe tbody tr th {\n",
       "        vertical-align: top;\n",
       "    }\n",
       "\n",
       "    .dataframe thead th {\n",
       "        text-align: right;\n",
       "    }\n",
       "</style>\n",
       "<table border=\"1\" class=\"dataframe\">\n",
       "  <thead>\n",
       "    <tr style=\"text-align: right;\">\n",
       "      <th></th>\n",
       "      <th>Unnamed: 0</th>\n",
       "      <th>YEAR</th>\n",
       "      <th>MONTH</th>\n",
       "      <th>ORIGIN_AIRPORT_ID</th>\n",
       "      <th>DEST_AIRPORT_ID</th>\n",
       "      <th>DEP_DELAY</th>\n",
       "      <th>DEP_DELAY_NEW</th>\n",
       "      <th>ARR_TIME</th>\n",
       "      <th>ARR_DELAY</th>\n",
       "      <th>CANCELLED</th>\n",
       "      <th>DIVERTED</th>\n",
       "      <th>CARRIER_DELAY</th>\n",
       "      <th>WEATHER_DELAY</th>\n",
       "      <th>NAS_DELAY</th>\n",
       "      <th>SECURITY_DELAY</th>\n",
       "      <th>LATE_AIRCRAFT_DELAY</th>\n",
       "    </tr>\n",
       "  </thead>\n",
       "  <tbody>\n",
       "    <tr>\n",
       "      <th>count</th>\n",
       "      <td>5.571160e+05</td>\n",
       "      <td>557116.000000</td>\n",
       "      <td>557116.000000</td>\n",
       "      <td>557116.000000</td>\n",
       "      <td>557116.000000</td>\n",
       "      <td>557116.000000</td>\n",
       "      <td>557116.000000</td>\n",
       "      <td>557116.000000</td>\n",
       "      <td>557116.000000</td>\n",
       "      <td>557116.0</td>\n",
       "      <td>557116.0</td>\n",
       "      <td>557116.000000</td>\n",
       "      <td>557116.000000</td>\n",
       "      <td>557116.000000</td>\n",
       "      <td>557116.000000</td>\n",
       "      <td>557116.000000</td>\n",
       "    </tr>\n",
       "    <tr>\n",
       "      <th>mean</th>\n",
       "      <td>2.603475e+06</td>\n",
       "      <td>2020.224722</td>\n",
       "      <td>4.629819</td>\n",
       "      <td>12563.425728</td>\n",
       "      <td>12609.344772</td>\n",
       "      <td>56.915477</td>\n",
       "      <td>57.795996</td>\n",
       "      <td>1556.070949</td>\n",
       "      <td>62.581075</td>\n",
       "      <td>0.0</td>\n",
       "      <td>0.0</td>\n",
       "      <td>26.181468</td>\n",
       "      <td>4.989846</td>\n",
       "      <td>13.632391</td>\n",
       "      <td>0.158786</td>\n",
       "      <td>17.618584</td>\n",
       "    </tr>\n",
       "    <tr>\n",
       "      <th>std</th>\n",
       "      <td>1.766977e+06</td>\n",
       "      <td>0.417399</td>\n",
       "      <td>3.777480</td>\n",
       "      <td>1532.093766</td>\n",
       "      <td>1536.723530</td>\n",
       "      <td>99.390156</td>\n",
       "      <td>98.848851</td>\n",
       "      <td>551.649635</td>\n",
       "      <td>95.207828</td>\n",
       "      <td>0.0</td>\n",
       "      <td>0.0</td>\n",
       "      <td>76.267737</td>\n",
       "      <td>39.116964</td>\n",
       "      <td>31.159350</td>\n",
       "      <td>3.682437</td>\n",
       "      <td>49.713600</td>\n",
       "    </tr>\n",
       "    <tr>\n",
       "      <th>min</th>\n",
       "      <td>0.000000e+00</td>\n",
       "      <td>2020.000000</td>\n",
       "      <td>1.000000</td>\n",
       "      <td>10135.000000</td>\n",
       "      <td>10135.000000</td>\n",
       "      <td>-51.000000</td>\n",
       "      <td>0.000000</td>\n",
       "      <td>1.000000</td>\n",
       "      <td>15.000000</td>\n",
       "      <td>0.0</td>\n",
       "      <td>0.0</td>\n",
       "      <td>0.000000</td>\n",
       "      <td>0.000000</td>\n",
       "      <td>0.000000</td>\n",
       "      <td>0.000000</td>\n",
       "      <td>0.000000</td>\n",
       "    </tr>\n",
       "    <tr>\n",
       "      <th>25%</th>\n",
       "      <td>1.112150e+06</td>\n",
       "      <td>2020.000000</td>\n",
       "      <td>2.000000</td>\n",
       "      <td>11292.000000</td>\n",
       "      <td>11292.000000</td>\n",
       "      <td>8.000000</td>\n",
       "      <td>8.000000</td>\n",
       "      <td>1219.000000</td>\n",
       "      <td>22.000000</td>\n",
       "      <td>0.0</td>\n",
       "      <td>0.0</td>\n",
       "      <td>0.000000</td>\n",
       "      <td>0.000000</td>\n",
       "      <td>0.000000</td>\n",
       "      <td>0.000000</td>\n",
       "      <td>0.000000</td>\n",
       "    </tr>\n",
       "    <tr>\n",
       "      <th>50%</th>\n",
       "      <td>2.249434e+06</td>\n",
       "      <td>2020.000000</td>\n",
       "      <td>3.000000</td>\n",
       "      <td>12278.000000</td>\n",
       "      <td>12451.000000</td>\n",
       "      <td>34.000000</td>\n",
       "      <td>34.000000</td>\n",
       "      <td>1636.000000</td>\n",
       "      <td>35.000000</td>\n",
       "      <td>0.0</td>\n",
       "      <td>0.0</td>\n",
       "      <td>1.000000</td>\n",
       "      <td>0.000000</td>\n",
       "      <td>1.000000</td>\n",
       "      <td>0.000000</td>\n",
       "      <td>0.000000</td>\n",
       "    </tr>\n",
       "    <tr>\n",
       "      <th>75%</th>\n",
       "      <td>4.172581e+06</td>\n",
       "      <td>2020.000000</td>\n",
       "      <td>8.000000</td>\n",
       "      <td>13930.000000</td>\n",
       "      <td>14027.000000</td>\n",
       "      <td>69.000000</td>\n",
       "      <td>69.000000</td>\n",
       "      <td>2004.000000</td>\n",
       "      <td>67.000000</td>\n",
       "      <td>0.0</td>\n",
       "      <td>0.0</td>\n",
       "      <td>25.000000</td>\n",
       "      <td>0.000000</td>\n",
       "      <td>19.000000</td>\n",
       "      <td>0.000000</td>\n",
       "      <td>16.000000</td>\n",
       "    </tr>\n",
       "    <tr>\n",
       "      <th>max</th>\n",
       "      <td>5.826723e+06</td>\n",
       "      <td>2021.000000</td>\n",
       "      <td>12.000000</td>\n",
       "      <td>16869.000000</td>\n",
       "      <td>16869.000000</td>\n",
       "      <td>3890.000000</td>\n",
       "      <td>3890.000000</td>\n",
       "      <td>2400.000000</td>\n",
       "      <td>3864.000000</td>\n",
       "      <td>0.0</td>\n",
       "      <td>0.0</td>\n",
       "      <td>3864.000000</td>\n",
       "      <td>1740.000000</td>\n",
       "      <td>1462.000000</td>\n",
       "      <td>1185.000000</td>\n",
       "      <td>2361.000000</td>\n",
       "    </tr>\n",
       "  </tbody>\n",
       "</table>\n",
       "</div>"
      ],
      "text/plain": [
       "         Unnamed: 0           YEAR          MONTH  ORIGIN_AIRPORT_ID  \\\n",
       "count  5.571160e+05  557116.000000  557116.000000      557116.000000   \n",
       "mean   2.603475e+06    2020.224722       4.629819       12563.425728   \n",
       "std    1.766977e+06       0.417399       3.777480        1532.093766   \n",
       "min    0.000000e+00    2020.000000       1.000000       10135.000000   \n",
       "25%    1.112150e+06    2020.000000       2.000000       11292.000000   \n",
       "50%    2.249434e+06    2020.000000       3.000000       12278.000000   \n",
       "75%    4.172581e+06    2020.000000       8.000000       13930.000000   \n",
       "max    5.826723e+06    2021.000000      12.000000       16869.000000   \n",
       "\n",
       "       DEST_AIRPORT_ID      DEP_DELAY  DEP_DELAY_NEW       ARR_TIME  \\\n",
       "count    557116.000000  557116.000000  557116.000000  557116.000000   \n",
       "mean      12609.344772      56.915477      57.795996    1556.070949   \n",
       "std        1536.723530      99.390156      98.848851     551.649635   \n",
       "min       10135.000000     -51.000000       0.000000       1.000000   \n",
       "25%       11292.000000       8.000000       8.000000    1219.000000   \n",
       "50%       12451.000000      34.000000      34.000000    1636.000000   \n",
       "75%       14027.000000      69.000000      69.000000    2004.000000   \n",
       "max       16869.000000    3890.000000    3890.000000    2400.000000   \n",
       "\n",
       "           ARR_DELAY  CANCELLED  DIVERTED  CARRIER_DELAY  WEATHER_DELAY  \\\n",
       "count  557116.000000   557116.0  557116.0  557116.000000  557116.000000   \n",
       "mean       62.581075        0.0       0.0      26.181468       4.989846   \n",
       "std        95.207828        0.0       0.0      76.267737      39.116964   \n",
       "min        15.000000        0.0       0.0       0.000000       0.000000   \n",
       "25%        22.000000        0.0       0.0       0.000000       0.000000   \n",
       "50%        35.000000        0.0       0.0       1.000000       0.000000   \n",
       "75%        67.000000        0.0       0.0      25.000000       0.000000   \n",
       "max      3864.000000        0.0       0.0    3864.000000    1740.000000   \n",
       "\n",
       "           NAS_DELAY  SECURITY_DELAY  LATE_AIRCRAFT_DELAY  \n",
       "count  557116.000000   557116.000000        557116.000000  \n",
       "mean       13.632391        0.158786            17.618584  \n",
       "std        31.159350        3.682437            49.713600  \n",
       "min         0.000000        0.000000             0.000000  \n",
       "25%         0.000000        0.000000             0.000000  \n",
       "50%         1.000000        0.000000             0.000000  \n",
       "75%        19.000000        0.000000            16.000000  \n",
       "max      1462.000000     1185.000000          2361.000000  "
      ]
     },
     "execution_count": 14,
     "metadata": {},
     "output_type": "execute_result"
    }
   ],
   "source": [
    "df.describe()"
   ]
  },
  {
   "cell_type": "code",
   "execution_count": 15,
   "metadata": {},
   "outputs": [
    {
     "data": {
      "text/plain": [
       "0.9775492674975385"
      ]
     },
     "execution_count": 15,
     "metadata": {},
     "output_type": "execute_result"
    }
   ],
   "source": [
    "correlation = df['DEP_DELAY'].corr(df['ARR_DELAY'])\n",
    "correlation"
   ]
  },
  {
   "cell_type": "code",
   "execution_count": 16,
   "metadata": {},
   "outputs": [
    {
     "data": {
      "text/plain": [
       "'Dallas/Fort Worth, TX'"
      ]
     },
     "execution_count": 16,
     "metadata": {},
     "output_type": "execute_result"
    }
   ],
   "source": [
    "df['ORIGIN_CITY_NAME'].value_counts().idxmax()"
   ]
  },
  {
   "cell_type": "code",
   "execution_count": 17,
   "metadata": {},
   "outputs": [
    {
     "data": {
      "text/plain": [
       "'Dallas/Fort Worth, TX'"
      ]
     },
     "execution_count": 17,
     "metadata": {},
     "output_type": "execute_result"
    }
   ],
   "source": [
    "df['DEST_CITY_NAME'].value_counts().idxmax()"
   ]
  },
  {
   "cell_type": "code",
   "execution_count": 19,
   "metadata": {},
   "outputs": [
    {
     "data": {
      "text/plain": [
       "<matplotlib.legend.Legend at 0x7fefbcb63f50>"
      ]
     },
     "execution_count": 19,
     "metadata": {},
     "output_type": "execute_result"
    },
    {
     "data": {
      "image/png": "[encoded data removed]",
      "text/plain": [
       "<Figure size 432x288 with 1 Axes>"
      ]
     },
     "metadata": {
      "needs_background": "light"
     },
     "output_type": "display_data"
    }
   ],
   "source": [
    "#Correlation of carrier and weather delay grouped by month\n",
    "fig, axs = plt.subplots()\n",
    "ax = sns.regplot(x='MONTH', y='CARRIER_DELAY', data=df, label='Carrier Delay')\n",
    "sns.regplot(x='MONTH', y='WEATHER_DELAY', data=df, label='WEATHER_DELAY')\n",
    "ax.legend(loc=\"best\")"
   ]
  },
  {
   "cell_type": "code",
   "execution_count": 20,
   "metadata": {},
   "outputs": [
    {
     "data": {
      "text/plain": [
       "<matplotlib.legend.Legend at 0x7fefbcb362d0>"
      ]
     },
     "execution_count": 20,
     "metadata": {},
     "output_type": "execute_result"
    },
    {
     "data": {
      "image/png": "[encoded data removed]",
      "text/plain": [
       "<Figure size 432x288 with 1 Axes>"
      ]
     },
     "metadata": {
      "needs_background": "light"
     },
     "output_type": "display_data"
    }
   ],
   "source": [
    "#Correlation of carrier and NAS delay grouped by month\n",
    "fig, axs = plt.subplots()\n",
    "ax = sns.regplot(x='MONTH', y='CARRIER_DELAY', data=df, label='Carrier Delay')\n",
    "sns.regplot(x='MONTH', y='NAS_DELAY', data=df, label='NAS_DELAY')\n",
    "ax.legend(loc=\"best\")"
   ]
  },
  {
   "cell_type": "code",
   "execution_count": 21,
   "metadata": {},
   "outputs": [
    {
     "data": {
      "text/plain": [
       "<matplotlib.legend.Legend at 0x7fefbca86090>"
      ]
     },
     "execution_count": 21,
     "metadata": {},
     "output_type": "execute_result"
    },
    {
     "data": {
      "image/png": "[encoded data removed]",
      "text/plain": [
       "<Figure size 432x288 with 1 Axes>"
      ]
     },
     "metadata": {
      "needs_background": "light"
     },
     "output_type": "display_data"
    }
   ],
   "source": [
    "#Correlation of carrier and SECURITY_DELAY delay grouped by month\n",
    "fig, axs = plt.subplots()\n",
    "ax = sns.regplot(x='MONTH', y='CARRIER_DELAY', data=df, label='Carrier Delay')\n",
    "sns.regplot(x='MONTH', y='SECURITY_DELAY', data=df, label='SECURITY_DELAY')\n",
    "ax.legend(loc=\"best\")"
   ]
  },
  {
   "cell_type": "code",
   "execution_count": 22,
   "metadata": {},
   "outputs": [
    {
     "data": {
      "text/plain": [
       "<matplotlib.legend.Legend at 0x7fefbca0e2d0>"
      ]
     },
     "execution_count": 22,
     "metadata": {},
     "output_type": "execute_result"
    },
    {
     "data": {
      "image/png": "[encoded data removed]",
      "text/plain": [
       "<Figure size 432x288 with 1 Axes>"
      ]
     },
     "metadata": {
      "needs_background": "light"
     },
     "output_type": "display_data"
    }
   ],
   "source": [
    "#Correlation of carrier and LATE_AIRCRAFT_DELAY delay grouped by month\n",
    "fig, axs = plt.subplots()\n",
    "ax = sns.regplot(x='MONTH', y='CARRIER_DELAY', data=df, label='Carrier Delay')\n",
    "sns.regplot(x='MONTH', y='LATE_AIRCRAFT_DELAY', data=df, label='LATE_AIRCRAFT_DELAY')\n",
    "ax.legend(loc=\"best\")\n"
   ]
  },
  {
   "cell_type": "code",
   "execution_count": 7,
   "metadata": {},
   "outputs": [
    {
     "name": "stderr",
     "output_type": "stream",
     "text": [
      "/opt/conda/lib/python3.7/site-packages/ipykernel_launcher.py:4: FutureWarning: Indexing with multiple keys (implicitly converted to a tuple of keys) will be deprecated, use a list instead.\n",
      "  after removing the cwd from sys.path.\n"
     ]
    },
    {
     "data": {
      "text/html": [
       "<div>\n",
       "<style scoped>\n",
       "    .dataframe tbody tr th:only-of-type {\n",
       "        vertical-align: middle;\n",
       "    }\n",
       "\n",
       "    .dataframe tbody tr th {\n",
       "        vertical-align: top;\n",
       "    }\n",
       "\n",
       "    .dataframe thead th {\n",
       "        text-align: right;\n",
       "    }\n",
       "</style>\n",
       "<table border=\"1\" class=\"dataframe\">\n",
       "  <thead>\n",
       "    <tr style=\"text-align: right;\">\n",
       "      <th></th>\n",
       "      <th>CARRIER_DELAY</th>\n",
       "      <th>WEATHER_DELAY</th>\n",
       "      <th>NAS_DELAY</th>\n",
       "      <th>SECURITY_DELAY</th>\n",
       "      <th>LATE_AIRCRAFT_DELAY</th>\n",
       "      <th>MONTH</th>\n",
       "    </tr>\n",
       "    <tr>\n",
       "      <th>MONTH</th>\n",
       "      <th></th>\n",
       "      <th></th>\n",
       "      <th></th>\n",
       "      <th></th>\n",
       "      <th></th>\n",
       "      <th></th>\n",
       "    </tr>\n",
       "  </thead>\n",
       "  <tbody>\n",
       "    <tr>\n",
       "      <th>1</th>\n",
       "      <td>2971818.0</td>\n",
       "      <td>606431.0</td>\n",
       "      <td>1753646.0</td>\n",
       "      <td>15200.0</td>\n",
       "      <td>2221182.0</td>\n",
       "      <td>Jan</td>\n",
       "    </tr>\n",
       "    <tr>\n",
       "      <th>2</th>\n",
       "      <td>3177302.0</td>\n",
       "      <td>836355.0</td>\n",
       "      <td>2044368.0</td>\n",
       "      <td>14050.0</td>\n",
       "      <td>2727386.0</td>\n",
       "      <td>Feb</td>\n",
       "    </tr>\n",
       "    <tr>\n",
       "      <th>3</th>\n",
       "      <td>2528789.0</td>\n",
       "      <td>263721.0</td>\n",
       "      <td>1293095.0</td>\n",
       "      <td>14805.0</td>\n",
       "      <td>1837884.0</td>\n",
       "      <td>Mar</td>\n",
       "    </tr>\n",
       "    <tr>\n",
       "      <th>4</th>\n",
       "      <td>350229.0</td>\n",
       "      <td>24809.0</td>\n",
       "      <td>93307.0</td>\n",
       "      <td>1210.0</td>\n",
       "      <td>88522.0</td>\n",
       "      <td>Apr</td>\n",
       "    </tr>\n",
       "    <tr>\n",
       "      <th>5</th>\n",
       "      <td>251530.0</td>\n",
       "      <td>29647.0</td>\n",
       "      <td>92506.0</td>\n",
       "      <td>2241.0</td>\n",
       "      <td>106777.0</td>\n",
       "      <td>May</td>\n",
       "    </tr>\n",
       "    <tr>\n",
       "      <th>6</th>\n",
       "      <td>407872.0</td>\n",
       "      <td>91436.0</td>\n",
       "      <td>146306.0</td>\n",
       "      <td>2292.0</td>\n",
       "      <td>195894.0</td>\n",
       "      <td>Jun</td>\n",
       "    </tr>\n",
       "    <tr>\n",
       "      <th>7</th>\n",
       "      <td>842584.0</td>\n",
       "      <td>181478.0</td>\n",
       "      <td>364196.0</td>\n",
       "      <td>7608.0</td>\n",
       "      <td>493861.0</td>\n",
       "      <td>Jul</td>\n",
       "    </tr>\n",
       "    <tr>\n",
       "      <th>8</th>\n",
       "      <td>749726.0</td>\n",
       "      <td>190342.0</td>\n",
       "      <td>359720.0</td>\n",
       "      <td>5211.0</td>\n",
       "      <td>399300.0</td>\n",
       "      <td>Aug</td>\n",
       "    </tr>\n",
       "    <tr>\n",
       "      <th>9</th>\n",
       "      <td>585972.0</td>\n",
       "      <td>112564.0</td>\n",
       "      <td>217716.0</td>\n",
       "      <td>6290.0</td>\n",
       "      <td>262844.0</td>\n",
       "      <td>Sep</td>\n",
       "    </tr>\n",
       "    <tr>\n",
       "      <th>10</th>\n",
       "      <td>815571.0</td>\n",
       "      <td>145818.0</td>\n",
       "      <td>345319.0</td>\n",
       "      <td>6660.0</td>\n",
       "      <td>465687.0</td>\n",
       "      <td>Oct</td>\n",
       "    </tr>\n",
       "    <tr>\n",
       "      <th>11</th>\n",
       "      <td>762593.0</td>\n",
       "      <td>92978.0</td>\n",
       "      <td>300948.0</td>\n",
       "      <td>5921.0</td>\n",
       "      <td>392700.0</td>\n",
       "      <td>Nov</td>\n",
       "    </tr>\n",
       "    <tr>\n",
       "      <th>12</th>\n",
       "      <td>1142129.0</td>\n",
       "      <td>204344.0</td>\n",
       "      <td>583696.0</td>\n",
       "      <td>6974.0</td>\n",
       "      <td>623558.0</td>\n",
       "      <td>Dec</td>\n",
       "    </tr>\n",
       "  </tbody>\n",
       "</table>\n",
       "</div>"
      ],
      "text/plain": [
       "       CARRIER_DELAY  WEATHER_DELAY  NAS_DELAY  SECURITY_DELAY  \\\n",
       "MONTH                                                            \n",
       "1          2971818.0       606431.0  1753646.0         15200.0   \n",
       "2          3177302.0       836355.0  2044368.0         14050.0   \n",
       "3          2528789.0       263721.0  1293095.0         14805.0   \n",
       "4           350229.0        24809.0    93307.0          1210.0   \n",
       "5           251530.0        29647.0    92506.0          2241.0   \n",
       "6           407872.0        91436.0   146306.0          2292.0   \n",
       "7           842584.0       181478.0   364196.0          7608.0   \n",
       "8           749726.0       190342.0   359720.0          5211.0   \n",
       "9           585972.0       112564.0   217716.0          6290.0   \n",
       "10          815571.0       145818.0   345319.0          6660.0   \n",
       "11          762593.0        92978.0   300948.0          5921.0   \n",
       "12         1142129.0       204344.0   583696.0          6974.0   \n",
       "\n",
       "       LATE_AIRCRAFT_DELAY MONTH  \n",
       "MONTH                             \n",
       "1                2221182.0   Jan  \n",
       "2                2727386.0   Feb  \n",
       "3                1837884.0   Mar  \n",
       "4                  88522.0   Apr  \n",
       "5                 106777.0   May  \n",
       "6                 195894.0   Jun  \n",
       "7                 493861.0   Jul  \n",
       "8                 399300.0   Aug  \n",
       "9                 262844.0   Sep  \n",
       "10                465687.0   Oct  \n",
       "11                392700.0   Nov  \n",
       "12                623558.0   Dec  "
      ]
     },
     "execution_count": 7,
     "metadata": {},
     "output_type": "execute_result"
    }
   ],
   "source": [
    "#flight delays categorized by 'CARRIER_DELAY', 'WEATHER_DELAY', 'NAS_DELAY', 'SECURITY_DELAY', 'LATE_AIRCRAFT_DELAY' and grouped by month \n",
    "\n",
    "delayb = df[['CARRIER_DELAY', 'WEATHER_DELAY', 'NAS_DELAY', 'SECURITY_DELAY', 'LATE_AIRCRAFT_DELAY', 'MONTH']].copy()\n",
    "delayb = delayb.groupby(['MONTH'])['CARRIER_DELAY', 'WEATHER_DELAY', 'NAS_DELAY', 'SECURITY_DELAY', 'LATE_AIRCRAFT_DELAY'].sum()\n",
    "delayb['MONTH'] = [\"Jan\", \"Feb\", \"Mar\", \"Apr\", \"May\", \"Jun\", \"Jul\", \"Aug\", \"Sep\", \"Oct\", \"Nov\", \"Dec\"]\n",
    "delayb"
   ]
  },
  {
   "cell_type": "code",
   "execution_count": 24,
   "metadata": {},
   "outputs": [
    {
     "data": {
      "text/plain": [
       "<matplotlib.axes._subplots.AxesSubplot at 0x7fefbcb49d10>"
      ]
     },
     "execution_count": 24,
     "metadata": {},
     "output_type": "execute_result"
    },
    {
     "data": {
      "image/png": "[encoded data removed]",
      "text/plain": [
       "<Figure size 720x360 with 1 Axes>"
      ]
     },
     "metadata": {
      "needs_background": "light"
     },
     "output_type": "display_data"
    }
   ],
   "source": [
    "delayb.set_index('MONTH').plot(figsize=(10,5), grid=True)"
   ]
  },
  {
   "cell_type": "code",
   "execution_count": 25,
   "metadata": {},
   "outputs": [
    {
     "data": {
      "text/plain": [
       "<matplotlib.axes._subplots.AxesSubplot at 0x7fefbc987450>"
      ]
     },
     "execution_count": 25,
     "metadata": {},
     "output_type": "execute_result"
    },
    {
     "data": {
      "image/png": "[encoded data removed]",
      "text/plain": [
       "<Figure size 432x288 with 1 Axes>"
      ]
     },
     "metadata": {
      "needs_background": "light"
     },
     "output_type": "display_data"
    }
   ],
   "source": [
    "sns.countplot(x='IS_DELAY', data=df)"
   ]
  },
  {
   "cell_type": "code",
   "execution_count": 26,
   "metadata": {},
   "outputs": [
    {
     "data": {
      "text/plain": [
       "<matplotlib.axes._subplots.AxesSubplot at 0x7fefbc94d8d0>"
      ]
     },
     "execution_count": 26,
     "metadata": {},
     "output_type": "execute_result"
    },
    {
     "data": {
      "image/png": "[encoded data removed]",
      "text/plain": [
       "<Figure size 432x288 with 1 Axes>"
      ]
     },
     "metadata": {
      "needs_background": "light"
     },
     "output_type": "display_data"
    }
   ],
   "source": [
    "sns.countplot(x='MONTH', hue=\"IS_DELAY\", data=df)"
   ]
  },
  {
   "cell_type": "code",
   "execution_count": 27,
   "metadata": {},
   "outputs": [
    {
     "data": {
      "text/plain": [
       "<matplotlib.axes._subplots.AxesSubplot at 0x7fefbcbba3d0>"
      ]
     },
     "execution_count": 27,
     "metadata": {},
     "output_type": "execute_result"
    },
    {
     "data": {
      "image/png": "[encoded data removed]",
      "text/plain": [
       "<Figure size 432x288 with 1 Axes>"
      ]
     },
     "metadata": {
      "needs_background": "light"
     },
     "output_type": "display_data"
    }
   ],
   "source": [
    "sns.countplot(x='OP_UNIQUE_CARRIER', hue=\"IS_DELAY\", data=df)"
   ]
  },
  {
   "cell_type": "code",
   "execution_count": 28,
   "metadata": {},
   "outputs": [],
   "source": [
    "df['IS_DELAY'] = df['IS_DELAY'].map({'yes': 1, 'no': 0})"
   ]
  },
  {
   "cell_type": "code",
   "execution_count": 29,
   "metadata": {},
   "outputs": [
    {
     "data": {
      "text/plain": [
       "LinearRegression(copy_X=True, fit_intercept=True, n_jobs=None, normalize=False)"
      ]
     },
     "execution_count": 29,
     "metadata": {},
     "output_type": "execute_result"
    }
   ],
   "source": [
    "#multiple linear regression\n",
    "# can use multiple linear regression for predicting delay using more than one variable , good predictors of delay could be: 'CARRIER_DELAY', 'WEATHER_DELAY', 'NAS_DELAY', 'SECURITY_DELAY', 'LATE_AIRCRAFT_DELAY'\n",
    "\n",
    "X = df[['CARRIER_DELAY', 'WEATHER_DELAY', 'NAS_DELAY', 'SECURITY_DELAY', 'LATE_AIRCRAFT_DELAY']]\n",
    "\n",
    "#From the sklearn module we will use the LinearRegression() method to create a linear regression object.\n",
    "\n",
    "#This object has a method called fit() that takes the independent and dependent values as parameters and fills the regression object with data that describes the relationship:\n",
    "\n",
    "LR = linear_model.LinearRegression()\n",
    "LR.fit(X, df['IS_DELAY'])"
   ]
  },
  {
   "cell_type": "code",
   "execution_count": 30,
   "metadata": {},
   "outputs": [
    {
     "data": {
      "text/plain": [
       "0.7763954767739174"
      ]
     },
     "execution_count": 30,
     "metadata": {},
     "output_type": "execute_result"
    }
   ],
   "source": [
    "LR.intercept_\n"
   ]
  },
  {
   "cell_type": "code",
   "execution_count": 31,
   "metadata": {},
   "outputs": [
    {
     "data": {
      "text/plain": [
       "array([ 0.00079278,  0.00069891, -0.0015501 ,  0.00253341,  0.00139245])"
      ]
     },
     "execution_count": 31,
     "metadata": {},
     "output_type": "execute_result"
    }
   ],
   "source": [
    "LR.coef_"
   ]
  },
  {
   "cell_type": "markdown",
   "metadata": {},
   "source": [
    "What is the final estimated linear model that we get?\n",
    "\n",
    "As we saw above, we should get a final linear function with the structure:\n",
    "\n",
    "𝑌ℎ𝑎𝑡 = 𝑎 + 𝑏1 𝑋1 + 𝑏2 𝑋2 + 𝑏3 𝑋3 + 𝑏4 𝑋4 + b5 X5\n",
    " \n",
    "What is the linear function we get in this example?\n",
    "\n",
    "delay = 0.7763954767739174 + 0.00079278 x CARRIER_DELAY + 0.00069891 x WEATHER_DELAY + -0.0015501 x NAS_DELAY + 0.00253341 x SECURITY_DELAY + 0.00139245 x LATE_AIRCRAFT_DELAY"
   ]
  },
  {
   "cell_type": "code",
   "execution_count": 26,
   "metadata": {},
   "outputs": [],
   "source": [
    "#Logistic regression"
   ]
  },
  {
   "cell_type": "code",
   "execution_count": 76,
   "metadata": {},
   "outputs": [],
   "source": [
    "feature_cols = ['CARRIER_DELAY', 'WEATHER_DELAY', 'NAS_DELAY', 'SECURITY_DELAY', 'LATE_AIRCRAFT_DELAY']\n",
    "X = df[feature_cols]\n",
    "Y = df.IS_DELAY"
   ]
  },
  {
   "cell_type": "code",
   "execution_count": 77,
   "metadata": {},
   "outputs": [
    {
     "data": {
      "text/html": [
       "<div>\n",
       "<style scoped>\n",
       "    .dataframe tbody tr th:only-of-type {\n",
       "        vertical-align: middle;\n",
       "    }\n",
       "\n",
       "    .dataframe tbody tr th {\n",
       "        vertical-align: top;\n",
       "    }\n",
       "\n",
       "    .dataframe thead th {\n",
       "        text-align: right;\n",
       "    }\n",
       "</style>\n",
       "<table border=\"1\" class=\"dataframe\">\n",
       "  <thead>\n",
       "    <tr style=\"text-align: right;\">\n",
       "      <th></th>\n",
       "      <th>CARRIER_DELAY</th>\n",
       "      <th>WEATHER_DELAY</th>\n",
       "      <th>NAS_DELAY</th>\n",
       "      <th>SECURITY_DELAY</th>\n",
       "      <th>LATE_AIRCRAFT_DELAY</th>\n",
       "    </tr>\n",
       "  </thead>\n",
       "  <tbody>\n",
       "    <tr>\n",
       "      <th>0</th>\n",
       "      <td>8.0</td>\n",
       "      <td>0.0</td>\n",
       "      <td>27.0</td>\n",
       "      <td>0.0</td>\n",
       "      <td>33.0</td>\n",
       "    </tr>\n",
       "    <tr>\n",
       "      <th>7</th>\n",
       "      <td>0.0</td>\n",
       "      <td>0.0</td>\n",
       "      <td>0.0</td>\n",
       "      <td>7.0</td>\n",
       "      <td>40.0</td>\n",
       "    </tr>\n",
       "    <tr>\n",
       "      <th>14</th>\n",
       "      <td>6.0</td>\n",
       "      <td>0.0</td>\n",
       "      <td>0.0</td>\n",
       "      <td>0.0</td>\n",
       "      <td>36.0</td>\n",
       "    </tr>\n",
       "  </tbody>\n",
       "</table>\n",
       "</div>"
      ],
      "text/plain": [
       "    CARRIER_DELAY  WEATHER_DELAY  NAS_DELAY  SECURITY_DELAY  \\\n",
       "0             8.0            0.0       27.0             0.0   \n",
       "7             0.0            0.0        0.0             7.0   \n",
       "14            6.0            0.0        0.0             0.0   \n",
       "\n",
       "    LATE_AIRCRAFT_DELAY  \n",
       "0                  33.0  \n",
       "7                  40.0  \n",
       "14                 36.0  "
      ]
     },
     "execution_count": 77,
     "metadata": {},
     "output_type": "execute_result"
    }
   ],
   "source": [
    "X.head(3)"
   ]
  },
  {
   "cell_type": "code",
   "execution_count": 78,
   "metadata": {},
   "outputs": [
    {
     "name": "stdout",
     "output_type": "stream",
     "text": [
      "1    448168\n",
      "0    108948\n",
      "Name: IS_DELAY, dtype: int64\n"
     ]
    }
   ],
   "source": [
    "print(Y.value_counts())"
   ]
  },
  {
   "cell_type": "code",
   "execution_count": 79,
   "metadata": {},
   "outputs": [],
   "source": [
    "x_train, x_test, y_train,y_test =train_test_split(X,Y, test_size=.15)"
   ]
  },
  {
   "cell_type": "code",
   "execution_count": 80,
   "metadata": {},
   "outputs": [
    {
     "name": "stdout",
     "output_type": "stream",
     "text": [
      "<class 'pandas.core.frame.DataFrame'> <class 'pandas.core.frame.DataFrame'> <class 'pandas.core.series.Series'> <class 'pandas.core.series.Series'>\n"
     ]
    }
   ],
   "source": [
    "print(type(x_train), type(x_test),type(y_train),type(y_test))"
   ]
  },
  {
   "cell_type": "code",
   "execution_count": 81,
   "metadata": {},
   "outputs": [
    {
     "name": "stdout",
     "output_type": "stream",
     "text": [
      "         IS_DELAY\n",
      "5420166         1\n",
      "1682532         1\n",
      "559262          1\n",
      "178027          1\n",
      "4469444         0 Index(['IS_DELAY'], dtype='object') 5420166    1\n",
      "1682532    1\n",
      "559262     1\n",
      "178027     1\n",
      "4469444    0\n",
      "Name: IS_DELAY, dtype: int64 Index(['IS_DELAY'], dtype='object') 1714967    1\n",
      "5584888    1\n",
      "1767648    0\n",
      "1248478    1\n",
      "2047401    1\n",
      "Name: IS_DELAY, dtype: int64\n"
     ]
    }
   ],
   "source": [
    "ytrain = pd.Series.to_frame(y_train)\n",
    "ytest  = pd.Series.to_frame(y_test)\n",
    "print(ytrain.head(),ytrain.columns, ytrain.IS_DELAY.head(), ytest.columns,ytest.IS_DELAY.head())"
   ]
  },
  {
   "cell_type": "code",
   "execution_count": 82,
   "metadata": {},
   "outputs": [],
   "source": [
    "LR = LogisticRegression()\n",
    "LR.fit(x_train,y_train)\n",
    "y_Prediction = LR.predict(x_test)"
   ]
  },
  {
   "cell_type": "code",
   "execution_count": 83,
   "metadata": {},
   "outputs": [
    {
     "name": "stdout",
     "output_type": "stream",
     "text": [
      "18765 64803\n"
     ]
    }
   ],
   "source": [
    "\n",
    "## y_Prediction\n",
    "print(np.count_nonzero(y_Prediction==0),np.count_nonzero(y_Prediction==1))"
   ]
  },
  {
   "cell_type": "code",
   "execution_count": 84,
   "metadata": {},
   "outputs": [
    {
     "data": {
      "text/plain": [
       "array([[13765,  2374],\n",
       "       [ 5000, 62429]])"
      ]
     },
     "execution_count": 84,
     "metadata": {},
     "output_type": "execute_result"
    }
   ],
   "source": [
    "cnf_matrix = metrics.confusion_matrix(y_test, y_Prediction)\n",
    "cnf_matrix"
   ]
  },
  {
   "cell_type": "markdown",
   "metadata": {},
   "source": [
    "Here, you can see the confusion matrix in the form of the array object. The dimension of this matrix is 2*2 because this model is binary classification. You have two classes 0 and 1. Diagonal values represent accurate predictions, while non-diagonal elements are inaccurate predictions. In the output, 13765 and 62429 are actual predictions, and 5000 and 2374 are incorrect predictions."
   ]
  },
  {
   "cell_type": "code",
   "execution_count": 86,
   "metadata": {},
   "outputs": [
    {
     "data": {
      "text/plain": [
       "Text(0.5, 257.44, 'Predicted label')"
      ]
     },
     "execution_count": 86,
     "metadata": {},
     "output_type": "execute_result"
    },
    {
     "data": {
      "image/png": "[encoded data removed]",
      "text/plain": [
       "<Figure size 432x288 with 2 Axes>"
      ]
     },
     "metadata": {},
     "output_type": "display_data"
    }
   ],
   "source": [
    "cnf_matrix = cnf_matrix.astype('float') / cnf_matrix.sum(axis=1)[:, np.newaxis]\n",
    "\n",
    "class_names=[0,1] # name  of classes\n",
    "fig, ax = plt.subplots()\n",
    "tick_marks = np.arange(len(class_names))\n",
    "plt.xticks(tick_marks, class_names)\n",
    "plt.yticks(tick_marks, class_names)\n",
    "# create heatmap\n",
    "sns.heatmap(pd.DataFrame(cnf_matrix), annot=True, cmap=\"YlGnBu\" ,fmt='g')\n",
    "ax.xaxis.set_label_position(\"top\")\n",
    "plt.tight_layout()\n",
    "plt.title('Confusion matrix', y=1.1)\n",
    "plt.ylabel('Actual label')\n",
    "plt.xlabel('Predicted label')"
   ]
  },
  {
   "cell_type": "code",
   "execution_count": 71,
   "metadata": {},
   "outputs": [
    {
     "name": "stdout",
     "output_type": "stream",
     "text": [
      "Accuracy: 0.9249648487749424\n",
      "Precision: 0.9633197001718082\n",
      "Recall: 0.9426033786347102\n"
     ]
    }
   ],
   "source": [
    "print(\"Accuracy:\",metrics.accuracy_score(y_test, y_pred))\n",
    "print(\"Precision:\",metrics.precision_score(y_test, y_pred))\n",
    "print(\"Recall:\",metrics.recall_score(y_test, y_pred))"
   ]
  },
  {
   "cell_type": "markdown",
   "metadata": {},
   "source": [
    "The logistic regression created for predicting delays has a 92% accuracy. The data used for the model were carrier, weather, nas, security and aircraft delay to train the model if a delay would occur. The presicion rate for the model is 96% and the Recall rateis 94%."
   ]
  },
  {
   "cell_type": "code",
   "execution_count": 8,
   "metadata": {},
   "outputs": [],
   "source": [
    "#Random forest\n",
    "#First, you separate the columns into dependent and independent variables (or features and labels). \n",
    "#Then you split those variables into a training and test set.\n",
    "\n",
    "X = df[['CARRIER_DELAY', 'WEATHER_DELAY', 'NAS_DELAY', 'SECURITY_DELAY', 'LATE_AIRCRAFT_DELAY']] #features\n",
    "Y = df['IS_DELAY'] #labels\n",
    "\n",
    "# Split dataset into training set and test set\n",
    "X_train, X_test, y_train, y_test = train_test_split(X, Y, test_size=0.3) # 70% training and 30% test"
   ]
  },
  {
   "cell_type": "code",
   "execution_count": 9,
   "metadata": {},
   "outputs": [],
   "source": [
    "from sklearn.ensemble import RandomForestClassifier\n",
    "\n",
    "#Create a Gaussian Classifier\n",
    "clf=RandomForestClassifier(n_estimators=100)\n",
    "\n",
    "#Train the model using the training sets y_pred=clf.predict(X_test)\n",
    "clf.fit(X_train,y_train)\n",
    "\n",
    "y_pred=clf.predict(X_test)"
   ]
  },
  {
   "cell_type": "code",
   "execution_count": 11,
   "metadata": {},
   "outputs": [
    {
     "name": "stdout",
     "output_type": "stream",
     "text": [
      "Accuracy: 0.9255392347503515\n"
     ]
    }
   ],
   "source": [
    "# Model Accuracy, how often is the classifier correct?\n",
    "print(\"Accuracy:\",metrics.accuracy_score(y_test, y_pred))"
   ]
  },
  {
   "cell_type": "code",
   "execution_count": 72,
   "metadata": {},
   "outputs": [
    {
     "data": {
      "text/plain": [
       "array([[ 27877,   4825],\n",
       "       [  7716, 126717]])"
      ]
     },
     "execution_count": 72,
     "metadata": {},
     "output_type": "execute_result"
    }
   ],
   "source": [
    "cf_matrix = metrics.confusion_matrix(y_test, y_pred)\n",
    "cf_matrix"
   ]
  },
  {
   "cell_type": "code",
   "execution_count": 73,
   "metadata": {},
   "outputs": [
    {
     "data": {
      "image/png": "[encoded data removed]",
      "text/plain": [
       "<Figure size 720x504 with 2 Axes>"
      ]
     },
     "metadata": {},
     "output_type": "display_data"
    }
   ],
   "source": [
    "# Get and reshape confusion matrix data\n",
    "cf_matrix = cf_matrix.astype('float') / cf_matrix.sum(axis=1)[:, np.newaxis]\n",
    "\n",
    "# Build the plot\n",
    "plt.figure(figsize=(10,7))\n",
    "sns.set(font_scale=1.4)\n",
    "sns.heatmap(cf_matrix, annot=True,\n",
    "            cmap=plt.cm.Greens)\n",
    "\n",
    "# Add labels to the plot\n",
    "class_names = [0,1]\n",
    "tick_marks = np.arange(len(class_names))\n",
    "tick_marks2 = tick_marks + 0.5\n",
    "plt.xticks(tick_marks, class_names, rotation=25)\n",
    "plt.yticks(tick_marks2, class_names, rotation=0)\n",
    "plt.xlabel('Predicted label')\n",
    "plt.ylabel('True label')\n",
    "plt.title('Confusion Matrix for Random Forest Model')\n",
    "plt.show()\n"
   ]
  },
  {
   "cell_type": "code",
   "execution_count": 51,
   "metadata": {},
   "outputs": [
    {
     "data": {
      "text/plain": [
       "array([0.24115203, 0.06904011, 0.52175606, 0.00445973, 0.16359207])"
      ]
     },
     "execution_count": 51,
     "metadata": {},
     "output_type": "execute_result"
    }
   ],
   "source": [
    "clf.feature_importances_"
   ]
  }
 ],
 "metadata": {
  "kernelspec": {
   "display_name": "Python 3",
   "language": "python",
   "name": "python3"
  },
  "language_info": {
   "codemirror_mode": {
    "name": "ipython",
    "version": 3
   },
   "file_extension": ".py",
   "mimetype": "text/x-python",
   "name": "python",
   "nbconvert_exporter": "python",
   "pygments_lexer": "ipython3",
   "version": "3.7.6"
  }
 },
 "nbformat": 4,
 "nbformat_minor": 4
}
